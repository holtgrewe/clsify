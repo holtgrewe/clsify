{
 "cells": [
  {
   "cell_type": "code",
   "execution_count": 14,
   "metadata": {},
   "outputs": [],
   "source": [
    "import dendropy"
   ]
  },
  {
   "cell_type": "code",
   "execution_count": 44,
   "metadata": {},
   "outputs": [],
   "source": [
    "PATH_16S_23S = \"/vol/local/projects/clsify/clsify_paste_out.d/EU812559.1_16S-23S.clustalw.fasta\"\n",
    "PATH_16S_23S = '/vol/local/projects/clsify/clsify_paste_out.d/EU812559.1_16S-23S.clustalw.phylip_phyml_tree.txt'"
   ]
  },
  {
   "cell_type": "code",
   "execution_count": 34,
   "metadata": {},
   "outputs": [],
   "source": [
    "dna1 = dendropy.DnaCharacterMatrix.get(\n",
    "    path=PATH_16S_23S, schema=\"fasta\"\n",
    ")"
   ]
  },
  {
   "cell_type": "code",
   "execution_count": 43,
   "metadata": {},
   "outputs": [
    {
     "data": {
      "text/plain": [
       "['__class__',\n",
       " '__contains__',\n",
       " '__copy__',\n",
       " '__deepcopy__',\n",
       " '__delattr__',\n",
       " '__delitem__',\n",
       " '__dict__',\n",
       " '__dir__',\n",
       " '__doc__',\n",
       " '__eq__',\n",
       " '__format__',\n",
       " '__ge__',\n",
       " '__getattribute__',\n",
       " '__getitem__',\n",
       " '__gt__',\n",
       " '__hash__',\n",
       " '__init__',\n",
       " '__init_subclass__',\n",
       " '__iter__',\n",
       " '__le__',\n",
       " '__len__',\n",
       " '__lt__',\n",
       " '__module__',\n",
       " '__ne__',\n",
       " '__new__',\n",
       " '__reduce__',\n",
       " '__reduce_ex__',\n",
       " '__repr__',\n",
       " '__setattr__',\n",
       " '__setitem__',\n",
       " '__sizeof__',\n",
       " '__str__',\n",
       " '__subclasshook__',\n",
       " '__weakref__',\n",
       " '_clone_from',\n",
       " '_default_state_alphabet',\n",
       " '_del_taxon_namespace',\n",
       " '_del_taxon_set',\n",
       " '_format_and_write_to_stream',\n",
       " '_get_annotations',\n",
       " '_get_default_state_alphabet',\n",
       " '_get_from',\n",
       " '_get_label',\n",
       " '_get_max_sequence_size',\n",
       " '_get_sequence_size',\n",
       " '_get_taxon_namespace',\n",
       " '_get_taxon_seq_map',\n",
       " '_get_taxon_set',\n",
       " '_has_annotations',\n",
       " '_label',\n",
       " '_parse_and_create_from_stream',\n",
       " '_resolve_key',\n",
       " '_set_annotations',\n",
       " '_set_default_state_alphabet',\n",
       " '_set_label',\n",
       " '_set_taxon_namespace',\n",
       " '_set_taxon_set',\n",
       " '_taxon_namespace',\n",
       " '_taxon_sequence_map',\n",
       " '_write_to',\n",
       " 'add_character_subset',\n",
       " 'add_sequences',\n",
       " 'annotations',\n",
       " 'append_taxon_sequence',\n",
       " 'as_string',\n",
       " 'automigrate_taxon_namespace_on_assignment',\n",
       " 'character_sequence_type',\n",
       " 'character_subsets',\n",
       " 'character_types',\n",
       " 'clear',\n",
       " 'clone',\n",
       " 'coerce_values',\n",
       " 'comments',\n",
       " 'concatenate',\n",
       " 'concatenate_from_paths',\n",
       " 'concatenate_from_streams',\n",
       " 'copy_annotations_from',\n",
       " 'data_type',\n",
       " 'datatype_alphabet',\n",
       " 'deep_copy_annotations_from',\n",
       " 'default_state_alphabet',\n",
       " 'description',\n",
       " 'discard_sequences',\n",
       " 'error',\n",
       " 'export_character_indices',\n",
       " 'export_character_subset',\n",
       " 'extend_matrix',\n",
       " 'extend_sequences',\n",
       " 'fill',\n",
       " 'fill_taxa',\n",
       " 'folded_site_frequency_spectrum',\n",
       " 'from_dict',\n",
       " 'get',\n",
       " 'get_from_path',\n",
       " 'get_from_stream',\n",
       " 'get_from_string',\n",
       " 'get_from_url',\n",
       " 'has_annotations',\n",
       " 'items',\n",
       " 'keep_sequences',\n",
       " 'label',\n",
       " 'max_sequence_size',\n",
       " 'migrate_taxon_namespace',\n",
       " 'new_character_subset',\n",
       " 'new_character_type',\n",
       " 'new_sequence',\n",
       " 'pack',\n",
       " 'poll_taxa',\n",
       " 'purge_taxon_namespace',\n",
       " 'read',\n",
       " 'read_from_path',\n",
       " 'read_from_stream',\n",
       " 'read_from_string',\n",
       " 'read_from_url',\n",
       " 'reconstruct_taxon_namespace',\n",
       " 'reindex_subcomponent_taxa',\n",
       " 'reindex_taxa',\n",
       " 'remap_to_default_state_alphabet_by_symbol',\n",
       " 'remap_to_state_alphabet_by_symbol',\n",
       " 'remove_sequences',\n",
       " 'replace_sequences',\n",
       " 'sequence_size',\n",
       " 'sequences',\n",
       " 'state_alphabets',\n",
       " 'taxon_namespace',\n",
       " 'taxon_namespace_scoped_copy',\n",
       " 'taxon_seq_map',\n",
       " 'taxon_set',\n",
       " 'taxon_state_sets_map',\n",
       " 'update_sequences',\n",
       " 'update_taxon_namespace',\n",
       " 'values',\n",
       " 'vector_size',\n",
       " 'vectors',\n",
       " 'write',\n",
       " 'write_to_path',\n",
       " 'write_to_stream']"
      ]
     },
     "execution_count": 43,
     "metadata": {},
     "output_type": "execute_result"
    }
   ],
   "source": [
    "dir(dna1)"
   ]
  },
  {
   "cell_type": "code",
   "execution_count": 33,
   "metadata": {},
   "outputs": [
    {
     "ename": "TypeError",
     "evalue": "'NoneType' object is not callable",
     "output_type": "error",
     "traceback": [
      "\u001b[0;31m---------------------------------------------------------------------------\u001b[0m",
      "\u001b[0;31mTypeError\u001b[0m                                 Traceback (most recent call last)",
      "\u001b[0;32m<ipython-input-33-ca9d6abde901>\u001b[0m in \u001b[0;36m<module>\u001b[0;34m\u001b[0m\n\u001b[0;32m----> 1\u001b[0;31m \u001b[0mdendropy\u001b[0m\u001b[0;34m.\u001b[0m\u001b[0mTree\u001b[0m\u001b[0;34m.\u001b[0m\u001b[0mget_from_path\u001b[0m\u001b[0;34m(\u001b[0m\u001b[0mPATH_16S_23S\u001b[0m\u001b[0;34m,\u001b[0m \u001b[0mschema\u001b[0m\u001b[0;34m=\u001b[0m\u001b[0;34m'fasta'\u001b[0m\u001b[0;34m,\u001b[0m \u001b[0mdata_type\u001b[0m\u001b[0;34m=\u001b[0m\u001b[0;34m'dna'\u001b[0m\u001b[0;34m,\u001b[0m \u001b[0mtaxon_namespace\u001b[0m\u001b[0;34m=\u001b[0m\u001b[0;34m\"namespace\"\u001b[0m\u001b[0;34m,\u001b[0m \u001b[0mlabel\u001b[0m\u001b[0;34m=\u001b[0m\u001b[0;34m\"label\"\u001b[0m\u001b[0;34m)\u001b[0m\u001b[0;34m\u001b[0m\u001b[0;34m\u001b[0m\u001b[0m\n\u001b[0m",
      "\u001b[0;32m/bioconda/2018-02/miniconda3/envs/clsify-dev/lib/python3.6/site-packages/dendropy/datamodel/basemodel.py\u001b[0m in \u001b[0;36mget_from_path\u001b[0;34m(cls, src, schema, **kwargs)\u001b[0m\n\u001b[1;32m    217\u001b[0m             return cls._parse_and_create_from_stream(stream=fsrc,\n\u001b[1;32m    218\u001b[0m                     \u001b[0mschema\u001b[0m\u001b[0;34m=\u001b[0m\u001b[0mschema\u001b[0m\u001b[0;34m,\u001b[0m\u001b[0;34m\u001b[0m\u001b[0;34m\u001b[0m\u001b[0m\n\u001b[0;32m--> 219\u001b[0;31m                     **kwargs)\n\u001b[0m\u001b[1;32m    220\u001b[0m     \u001b[0mget_from_path\u001b[0m \u001b[0;34m=\u001b[0m \u001b[0mclassmethod\u001b[0m\u001b[0;34m(\u001b[0m\u001b[0mget_from_path\u001b[0m\u001b[0;34m)\u001b[0m\u001b[0;34m\u001b[0m\u001b[0;34m\u001b[0m\u001b[0m\n\u001b[1;32m    221\u001b[0m \u001b[0;34m\u001b[0m\u001b[0m\n",
      "\u001b[0;32m/bioconda/2018-02/miniconda3/envs/clsify-dev/lib/python3.6/site-packages/dendropy/datamodel/treemodel.py\u001b[0m in \u001b[0;36m_parse_and_create_from_stream\u001b[0;34m(cls, stream, schema, collection_offset, tree_offset, **kwargs)\u001b[0m\n\u001b[1;32m   2661\u001b[0m                     \u001b[0mtaxon_namespace_factory\u001b[0m\u001b[0;34m=\u001b[0m\u001b[0mtns_factory\u001b[0m\u001b[0;34m,\u001b[0m\u001b[0;34m\u001b[0m\u001b[0;34m\u001b[0m\u001b[0m\n\u001b[1;32m   2662\u001b[0m                     \u001b[0mtree_list_factory\u001b[0m\u001b[0;34m=\u001b[0m\u001b[0mtree_list_factory\u001b[0m\u001b[0;34m,\u001b[0m\u001b[0;34m\u001b[0m\u001b[0;34m\u001b[0m\u001b[0m\n\u001b[0;32m-> 2663\u001b[0;31m                     global_annotations_target=None)\n\u001b[0m\u001b[1;32m   2664\u001b[0m         \u001b[0;32mif\u001b[0m \u001b[0;32mnot\u001b[0m \u001b[0mtree_lists\u001b[0m\u001b[0;34m:\u001b[0m\u001b[0;34m\u001b[0m\u001b[0;34m\u001b[0m\u001b[0m\n\u001b[1;32m   2665\u001b[0m             \u001b[0;32mraise\u001b[0m \u001b[0mValueError\u001b[0m\u001b[0;34m(\u001b[0m\u001b[0;34m\"No trees in data source\"\u001b[0m\u001b[0;34m)\u001b[0m\u001b[0;34m\u001b[0m\u001b[0;34m\u001b[0m\u001b[0m\n",
      "\u001b[0;32m/bioconda/2018-02/miniconda3/envs/clsify-dev/lib/python3.6/site-packages/dendropy/dataio/ioservice.py\u001b[0m in \u001b[0;36mread_tree_lists\u001b[0;34m(self, stream, taxon_namespace_factory, tree_list_factory, global_annotations_target)\u001b[0m\n\u001b[1;32m    361\u001b[0m                 \u001b[0mchar_matrix_factory\u001b[0m\u001b[0;34m=\u001b[0m\u001b[0;32mNone\u001b[0m\u001b[0;34m,\u001b[0m\u001b[0;34m\u001b[0m\u001b[0;34m\u001b[0m\u001b[0m\n\u001b[1;32m    362\u001b[0m                 \u001b[0mstate_alphabet_factory\u001b[0m\u001b[0;34m=\u001b[0m\u001b[0;32mNone\u001b[0m\u001b[0;34m,\u001b[0m\u001b[0;34m\u001b[0m\u001b[0;34m\u001b[0m\u001b[0m\n\u001b[0;32m--> 363\u001b[0;31m                 global_annotations_target=global_annotations_target)\n\u001b[0m\u001b[1;32m    364\u001b[0m         \u001b[0;32mreturn\u001b[0m \u001b[0mproduct\u001b[0m\u001b[0;34m.\u001b[0m\u001b[0mtree_lists\u001b[0m\u001b[0;34m\u001b[0m\u001b[0;34m\u001b[0m\u001b[0m\n\u001b[1;32m    365\u001b[0m \u001b[0;34m\u001b[0m\u001b[0m\n",
      "\u001b[0;32m/bioconda/2018-02/miniconda3/envs/clsify-dev/lib/python3.6/site-packages/dendropy/dataio/fastareader.py\u001b[0m in \u001b[0;36m_read\u001b[0;34m(self, stream, taxon_namespace_factory, tree_list_factory, char_matrix_factory, state_alphabet_factory, global_annotations_target)\u001b[0m\n\u001b[1;32m     72\u001b[0m                     \u001b[0mself\u001b[0m\u001b[0;34m.\u001b[0m\u001b[0mdata_type\u001b[0m\u001b[0;34m,\u001b[0m\u001b[0;34m\u001b[0m\u001b[0;34m\u001b[0m\u001b[0m\n\u001b[1;32m     73\u001b[0m                     \u001b[0mlabel\u001b[0m\u001b[0;34m=\u001b[0m\u001b[0;32mNone\u001b[0m\u001b[0;34m,\u001b[0m\u001b[0;34m\u001b[0m\u001b[0;34m\u001b[0m\u001b[0m\n\u001b[0;32m---> 74\u001b[0;31m                     taxon_namespace=taxon_namespace)\n\u001b[0m\u001b[1;32m     75\u001b[0m         \u001b[0msymbol_state_map\u001b[0m \u001b[0;34m=\u001b[0m \u001b[0mchar_matrix\u001b[0m\u001b[0;34m.\u001b[0m\u001b[0mdefault_state_alphabet\u001b[0m\u001b[0;34m.\u001b[0m\u001b[0mfull_symbol_state_map\u001b[0m\u001b[0;34m\u001b[0m\u001b[0;34m\u001b[0m\u001b[0m\n\u001b[1;32m     76\u001b[0m         \u001b[0mcurr_vec\u001b[0m \u001b[0;34m=\u001b[0m \u001b[0;32mNone\u001b[0m\u001b[0;34m\u001b[0m\u001b[0;34m\u001b[0m\u001b[0m\n",
      "\u001b[0;31mTypeError\u001b[0m: 'NoneType' object is not callable"
     ]
    }
   ],
   "source": [
    "dendropy.Tree.get_from_path(PATH_16S_23S, schema='fasta', data_type='dna', taxon_namespace=\"namespace\", label=\"label\")"
   ]
  },
  {
   "cell_type": "code",
   "execution_count": 22,
   "metadata": {},
   "outputs": [
    {
     "name": "stdout",
     "output_type": "stream",
     "text": [
      "Help on method get_from_path in module dendropy.datamodel.basemodel:\n",
      "\n",
      "get_from_path(src, schema, **kwargs) method of builtins.type instance\n",
      "    Factory method to return new object of this class from file\n",
      "    specified by string ``src``.\n",
      "    \n",
      "    Parameters\n",
      "    ----------\n",
      "    src : string\n",
      "        Full file path to source of data.\n",
      "    schema : string\n",
      "        Specification of data format (e.g., \"nexus\").\n",
      "    \\*\\*kwargs : keyword arguments, optional\n",
      "        Arguments to customize parsing, instantiation, processing, and\n",
      "        accession of objects read from the data source, including schema-\n",
      "        or format-specific handling. These will be passed to the underlying\n",
      "        schema-specific reader for handling.\n",
      "    \n",
      "    Returns\n",
      "    -------\n",
      "    pdo : phylogenetic data object\n",
      "        New instance of object, constructed and populated from data given\n",
      "        in source.\n",
      "\n"
     ]
    }
   ],
   "source": [
    "help(dendropy.Tree.get_from_path)"
   ]
  }
 ],
 "metadata": {
  "kernelspec": {
   "display_name": "Python 3",
   "language": "python",
   "name": "python3"
  },
  "language_info": {
   "codemirror_mode": {
    "name": "ipython",
    "version": 3
   },
   "file_extension": ".py",
   "mimetype": "text/x-python",
   "name": "python",
   "nbconvert_exporter": "python",
   "pygments_lexer": "ipython3",
   "version": "3.6.7"
  }
 },
 "nbformat": 4,
 "nbformat_minor": 2
}
